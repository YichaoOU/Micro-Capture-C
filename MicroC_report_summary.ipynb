{
 "cells": [
  {
   "cell_type": "code",
   "execution_count": null,
   "metadata": {},
   "outputs": [],
   "source": [
    "import pandas as pd\n",
    "import glob\n",
    "\n",
    "\n",
    "def open_file(file):\n",
    "    count=0\n",
    "    with open(file) as f:\n",
    "        for l in f:\n",
    "            if l.startswith('00'):\n",
    "                break\n",
    "            count+=1\n",
    "        print (count)\n",
    "        return pd.read_csv(f,sep=\"\\t\",header=None,index_col=0,usecols=[0,1]).T\n",
    "files = glob.glob(\"**/*extendedFrags_report_file.txt\",recursive=True)\n",
    "files = [x for x in files if not \"fastq.gz_trimming_report.txt\" in x]\n",
    "# print (files)\n",
    "df_list = [open_file(x) for x in files]\n",
    "df = pd.concat(df_list)\n",
    "df.index=files\n",
    "# df=df[['01a Total number of reads:','01a Duplicate reads Total:','01a Number of non-duplicated reads Total:']]\n",
    "# df = df[,'04b L FQ reads with a capture:','04b R FQ reads with a capture:']]\n",
    "selected_columns = [c for c in df.columns if \"FQ reads with a capture\" in c]\n",
    "df = df[['01 FQ reads read:','01 FQ reads with a Blat match:','01 Capture efficiency']+selected_columns]\n",
    "\n",
    "df = df.sort_values(\"01 Capture efficiency\",ascending=False)\n",
    "display(df)\n",
    "df.to_csv(\"capture_eff_summary.csv\")\n",
    "\n",
    "\n",
    "\n",
    "\n",
    "\n"
   ]
  },
  {
   "cell_type": "code",
   "execution_count": null,
   "metadata": {},
   "outputs": [],
   "source": [
    "import pandas as pd\n",
    "import glob\n",
    "\n",
    "\n",
    "def open_file(file):\n",
    "    count=0\n",
    "    with open(file) as f:\n",
    "        for l in f:\n",
    "            if l.startswith('Run'):\n",
    "                break\n",
    "            count+=1\n",
    "        print (count)\n",
    "        return pd.read_csv(f,sep=\"\\t\",header=None,index_col=0,usecols=[0,1]).T\n",
    "files = glob.glob(\"**/*_report.txt\",recursive=True)\n",
    "files = [x for x in files if not \"fastq.gz_trimming_report.txt\" in x]\n",
    "# print (files)\n",
    "df_list = [open_file(x) for x in files]\n",
    "df = pd.concat(df_list)\n",
    "df.index=files\n",
    "df=df[['01a Total number of reads:','01a Duplicate reads Total:','01a Number of non-duplicated reads Total:']]\n",
    "for c in df:\n",
    "    df[c] = [int(x.replace(\",\",\"\")) for x in df[c]]\n",
    "df.columns = ['Total reads (length>=25)','Duplicated reads','Unique reads']\n",
    "df['Total mapped reads'] = df['Duplicated reads']+df['Unique reads']\n",
    "df['Mapping rate'] = df['Total mapped reads']/df['Total reads (length>=25)']\n",
    "df['Duplication rate'] = df['Duplicated reads']/df['Total reads (length>=25)']\n",
    "display(df)\n",
    "df.to_csv(\"duplicate_rate_summary.csv\")\n",
    "\n",
    "\n",
    "\n",
    "\n",
    "\n"
   ]
  }
 ],
 "metadata": {
  "kernelspec": {
   "display_name": "Python 3",
   "language": "python",
   "name": "python3"
  },
  "language_info": {
   "codemirror_mode": {
    "name": "ipython",
    "version": 3
   },
   "file_extension": ".py",
   "mimetype": "text/x-python",
   "name": "python",
   "nbconvert_exporter": "python",
   "pygments_lexer": "ipython3",
   "version": "3.8.12"
  }
 },
 "nbformat": 4,
 "nbformat_minor": 4
}
